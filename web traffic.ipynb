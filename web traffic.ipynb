{
 "cells": [
  {
   "cell_type": "code",
   "execution_count": null,
   "metadata": {},
   "outputs": [],
   "source": [
    "import pandas as pd"
   ]
  },
  {
   "cell_type": "code",
   "execution_count": null,
   "metadata": {},
   "outputs": [],
   "source": [
    "df = pd.read_excel(r'C:\\Users\\joseph\\Downloads\\query_analytics.xlsx', engine='openpyxl')"
   ]
  },
  {
   "cell_type": "code",
   "execution_count": null,
   "metadata": {},
   "outputs": [],
   "source": [
    "df.tail()"
   ]
  },
  {
   "cell_type": "code",
   "execution_count": null,
   "metadata": {},
   "outputs": [],
   "source": [
    "df2 = df\n",
    "df2 = df[df[\"Search Query\"].str.contains('cyt') == False]\n",
    "df2 = df2[df2.Clicks > 0]\n",
    "#df2 = df2[df2[\"Search Query\"].str.contains('c.* y.* t.*') == False]"
   ]
  },
  {
   "cell_type": "code",
   "execution_count": null,
   "metadata": {},
   "outputs": [],
   "source": [
    "df2.describe()"
   ]
  },
  {
   "cell_type": "code",
   "execution_count": null,
   "metadata": {},
   "outputs": [],
   "source": [
    "df_cyts = df[df[\"Search Query\"].str.contains('.*c.* y.* t.*', na = False)]\n",
    "print(df_cyts)"
   ]
  },
  {
   "cell_type": "code",
   "execution_count": null,
   "metadata": {},
   "outputs": [],
   "source": [
    "#df_best = df2[df2['CTR']>df2.CTR.quantile(.5)] # above average CTR\n",
    "df_best = df2[df2['Impressions']>df2.Impressions.quantile(.5)] # above average impressions\n",
    "df_best = df_best[df_best['CTR']>df_best['CTR'].quantile(.5)] # below average searchrank\n",
    "df_best = df_best.sort_values(by='CTR', ascending=False)\n",
    "df_best['CTR'] = df_best['CTR']/100 # make these Excel-readable percentages\n",
    "\n",
    "df_best.describe()"
   ]
  }
 ],
 "metadata": {
  "kernelspec": {
   "display_name": "Python 3",
   "language": "python",
   "name": "python3"
  },
  "language_info": {
   "codemirror_mode": {
    "name": "ipython",
    "version": 3
   },
   "file_extension": ".py",
   "mimetype": "text/x-python",
   "name": "python",
   "nbconvert_exporter": "python",
   "pygments_lexer": "ipython3",
   "version": "3.9.0"
  }
 },
 "nbformat": 4,
 "nbformat_minor": 4
}
