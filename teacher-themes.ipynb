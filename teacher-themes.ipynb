{
 "cells": [
  {
   "cell_type": "code",
   "execution_count": null,
   "metadata": {},
   "outputs": [],
   "source": [
    "import pandas as pd\n"
   ]
  },
  {
   "cell_type": "code",
   "execution_count": null,
   "metadata": {},
   "outputs": [],
   "source": [
    "df = pd.read_excel(r'C:\\Users\\joseph\\Downloads\\camp_staff_themes.xlsx',engine=\"openpyxl\", usecols = \"A,E:I\")"
   ]
  },
  {
   "cell_type": "code",
   "execution_count": null,
   "metadata": {},
   "outputs": [],
   "source": [
    "df2 = df.loc[df['theme'] == 'Trolls']\n",
    "df3 = df.loc[df['theme'] == 'ShowBiz']"
   ]
  },
  {
   "cell_type": "code",
   "execution_count": null,
   "metadata": {},
   "outputs": [],
   "source": [
    "trolls = []\n",
    "for column in df.columns:\n",
    "    trolls.extend(list(df2[column]))\n",
    "\n",
    "showbiz = []\n",
    "for column in df.columns:\n",
    "    showbiz.extend(list(df3[column]))"
   ]
  },
  {
   "cell_type": "code",
   "execution_count": null,
   "metadata": {},
   "outputs": [],
   "source": [
    "def only_teachers(theme):\n",
    "    output = []\n",
    "    for i in theme:\n",
    "        if i not in ['Trolls','ShowBiz','OPEN'] and i not in output:\n",
    "            output.append(i)\n",
    "    return output\n",
    "            \n",
    "print(\"TROLLS\")    \n",
    "print(only_teachers(trolls))"
   ]
  },
  {
   "cell_type": "code",
   "execution_count": null,
   "metadata": {},
   "outputs": [],
   "source": [
    "print(\"SHOWBIZ\")    \n",
    "print(only_teachers(showbiz))"
   ]
  }
 ],
 "metadata": {
  "kernelspec": {
   "display_name": "Python 3",
   "language": "python",
   "name": "python3"
  },
  "language_info": {
   "codemirror_mode": {
    "name": "ipython",
    "version": 3
   },
   "file_extension": ".py",
   "mimetype": "text/x-python",
   "name": "python",
   "nbconvert_exporter": "python",
   "pygments_lexer": "ipython3",
   "version": "3.9.0"
  }
 },
 "nbformat": 4,
 "nbformat_minor": 4
}
