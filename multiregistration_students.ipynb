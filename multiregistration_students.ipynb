{
 "cells": [
  {
   "cell_type": "markdown",
   "metadata": {},
   "source": [
    "# Do students who take more than one camp want non-duplicate themes?"
   ]
  },
  {
   "cell_type": "code",
   "execution_count": 1,
   "metadata": {},
   "outputs": [
    {
     "data": {
      "text/plain": [
       "<Figure size 1332x756 with 0 Axes>"
      ]
     },
     "metadata": {},
     "output_type": "display_data"
    }
   ],
   "source": [
    "import matplotlib.pyplot as plt\n",
    "import pandas as pd\n",
    "import seaborn as sn\n",
    "\n",
    "fig = plt.gcf()\n",
    "fig.set_size_inches(18.5, 10.5, forward=True)"
   ]
  },
  {
   "cell_type": "code",
   "execution_count": 2,
   "metadata": {},
   "outputs": [],
   "source": [
    "# load student data but only keep certain columns\n",
    "df = pd.read_excel(r'C:\\Users\\joseph\\Documents\\Camp_data\\istar_camper_data.xlsx', engine='openpyxl')\n",
    "df = df[['Year','studentid','FLName','Theme','Class']]"
   ]
  },
  {
   "cell_type": "code",
   "execution_count": 3,
   "metadata": {},
   "outputs": [
    {
     "name": "stdout",
     "output_type": "stream",
     "text": [
      "23529 total campers\n"
     ]
    },
    {
     "data": {
      "text/html": [
       "<div>\n",
       "<style scoped>\n",
       "    .dataframe tbody tr th:only-of-type {\n",
       "        vertical-align: middle;\n",
       "    }\n",
       "\n",
       "    .dataframe tbody tr th {\n",
       "        vertical-align: top;\n",
       "    }\n",
       "\n",
       "    .dataframe thead th {\n",
       "        text-align: right;\n",
       "    }\n",
       "</style>\n",
       "<table border=\"1\" class=\"dataframe\">\n",
       "  <thead>\n",
       "    <tr style=\"text-align: right;\">\n",
       "      <th></th>\n",
       "      <th>Class</th>\n",
       "      <th>Theme</th>\n",
       "    </tr>\n",
       "  </thead>\n",
       "  <tbody>\n",
       "    <tr>\n",
       "      <th>count</th>\n",
       "      <td>23529.000000</td>\n",
       "      <td>23529.000000</td>\n",
       "    </tr>\n",
       "    <tr>\n",
       "      <th>mean</th>\n",
       "      <td>1.073909</td>\n",
       "      <td>1.043521</td>\n",
       "    </tr>\n",
       "    <tr>\n",
       "      <th>std</th>\n",
       "      <td>0.270730</td>\n",
       "      <td>0.205897</td>\n",
       "    </tr>\n",
       "    <tr>\n",
       "      <th>min</th>\n",
       "      <td>0.000000</td>\n",
       "      <td>0.000000</td>\n",
       "    </tr>\n",
       "    <tr>\n",
       "      <th>25%</th>\n",
       "      <td>1.000000</td>\n",
       "      <td>1.000000</td>\n",
       "    </tr>\n",
       "    <tr>\n",
       "      <th>50%</th>\n",
       "      <td>1.000000</td>\n",
       "      <td>1.000000</td>\n",
       "    </tr>\n",
       "    <tr>\n",
       "      <th>75%</th>\n",
       "      <td>1.000000</td>\n",
       "      <td>1.000000</td>\n",
       "    </tr>\n",
       "    <tr>\n",
       "      <th>max</th>\n",
       "      <td>4.000000</td>\n",
       "      <td>3.000000</td>\n",
       "    </tr>\n",
       "  </tbody>\n",
       "</table>\n",
       "</div>"
      ],
      "text/plain": [
       "              Class         Theme\n",
       "count  23529.000000  23529.000000\n",
       "mean       1.073909      1.043521\n",
       "std        0.270730      0.205897\n",
       "min        0.000000      0.000000\n",
       "25%        1.000000      1.000000\n",
       "50%        1.000000      1.000000\n",
       "75%        1.000000      1.000000\n",
       "max        4.000000      3.000000"
      ]
     },
     "execution_count": 3,
     "metadata": {},
     "output_type": "execute_result"
    }
   ],
   "source": [
    "# camper is defined as a student enrolled in a given year; e.g. Sam Smith enrolling in 2018 and 2019 counts as 2 \"campers\"\n",
    "count = df['studentid'].nunique()\n",
    "print(f'{count} total campers')\n",
    "\n",
    "# studentid and total registrations, with count of unique themes\n",
    "df2 = df.groupby(['studentid']).agg({'Class':'count','Theme':'nunique'})\n",
    "df2.describe()"
   ]
  },
  {
   "cell_type": "code",
   "execution_count": 4,
   "metadata": {},
   "outputs": [
    {
     "data": {
      "image/png": "[encoded data removed]",
      "text/plain": [
       "<Figure size 432x288 with 2 Axes>"
      ]
     },
     "metadata": {
      "needs_background": "light"
     },
     "output_type": "display_data"
    }
   ],
   "source": [
    "corrMatrix = df2.corr()\n",
    "sn.heatmap(corrMatrix, annot=True)\n",
    "plt.show()"
   ]
  },
  {
   "cell_type": "code",
   "execution_count": 5,
   "metadata": {},
   "outputs": [],
   "source": [
    "def multicampers_annual(year, data):\n",
    "        campers = data[data['Year']==year] # get only the specified year\n",
    "        #campers = campers[campers['Theme'] != 'Other'] # get only day campers\n",
    "        campers = campers.groupby(['studentid']).agg({'Class':'count','Theme':'nunique'}) # count total camps and distinct count themes\n",
    "        multis = campers[campers['Class']>1]\n",
    "        print(f'- {len(multis)} multiregistration campers, {round(len(multis)/len(campers)*100,1)}% of campers.')\n",
    "        sensations = campers[campers['Theme']>1]\n",
    "        print(f'- {len(sensations)} campers enrolled in more than one theme, {round(len(sensations)/len(multis)*100,1)}% of multi-campers.')\n",
    "        majors = campers[campers['Class']>2]\n",
    "        print(f'- (Fun fact: {len(majors)} campers enrolled in more than 2 camps!)')\n",
    "        print(f'\\n{round(len(sensations)/len(campers)*100,1)}% of {year} campers enrolled in multiple themes.')\n",
    "\n",
    "def multicampers_all(data):\n",
    "        campers = data[data['Year'] != 2011] # not 2011, since categorization was different then\n",
    "        #campers = campers[campers['Theme'] != 'Other'] # get only day campers\n",
    "        campers = campers.groupby(['studentid']).agg({'Class':'count','Theme':'nunique'}) # count total camps and distinct count themes\n",
    "        multis = campers[campers['Class']>1]\n",
    "        print(f'- {len(multis)} multiregistration campers, {round(len(multis)/len(campers)*100,1)}% of campers.')\n",
    "        sensations = campers[campers['Theme']>1]\n",
    "        print(f'- {len(sensations)} campers enrolled in more than one theme, {round(len(sensations)/len(multis)*100,1)}% of multi-campers.')\n",
    "        majors = campers[campers['Class']>2]\n",
    "        print(f'- (Fun fact: {len(majors)} campers enrolled in more than 2 camps!)')\n",
    "        print(f'\\n{round(len(sensations)/len(campers)*100,1)}% of campers enrolled in multiple themes.')"
   ]
  },
  {
   "cell_type": "code",
   "execution_count": 6,
   "metadata": {},
   "outputs": [
    {
     "name": "stdout",
     "output_type": "stream",
     "text": [
      "- 1464 multiregistration campers, 7.4% of campers.\n",
      "- 1017 campers enrolled in more than one theme, 69.5% of multi-campers.\n",
      "- (Fun fact: 32 campers enrolled in more than 2 camps!)\n",
      "\n",
      "5.1% of campers enrolled in multiple themes.\n"
     ]
    }
   ],
   "source": [
    "# multicampers_annual(df)\n",
    "multicampers_all(df)"
   ]
  }
 ],
 "metadata": {
  "kernelspec": {
   "display_name": "Python 3",
   "language": "python",
   "name": "python3"
  },
  "language_info": {
   "codemirror_mode": {
    "name": "ipython",
    "version": 3
   },
   "file_extension": ".py",
   "mimetype": "text/x-python",
   "name": "python",
   "nbconvert_exporter": "python",
   "pygments_lexer": "ipython3",
   "version": "3.9.0"
  }
 },
 "nbformat": 4,
 "nbformat_minor": 4
}
